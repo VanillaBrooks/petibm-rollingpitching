{
 "cells": [
  {
   "cell_type": "code",
   "execution_count": null,
   "metadata": {},
   "outputs": [],
   "source": [
    "from IPython.display import HTML\n",
    "import ipywidgets\n",
    "import itertools\n",
    "import math\n",
    "from matplotlib import pyplot, animation\n",
    "from mpl_toolkits.mplot3d import Axes3D\n",
    "import numpy\n",
    "\n",
    "import petibmpy\n",
    "\n",
    "%matplotlib inline"
   ]
  },
  {
   "cell_type": "code",
   "execution_count": null,
   "metadata": {},
   "outputs": [],
   "source": [
    "pyplot.rc('font', family='serif', size=12)"
   ]
  },
  {
   "cell_type": "code",
   "execution_count": null,
   "metadata": {},
   "outputs": [],
   "source": [
    "simudir = '.'"
   ]
  },
  {
   "cell_type": "code",
   "execution_count": null,
   "metadata": {},
   "outputs": [],
   "source": [
    "# Parameters.\n",
    "c = 1.0  # chord length\n",
    "AR = 1.27  # aspect ratio (AR = 1.27 --> S / c = 1)\n",
    "S = math.pi * c * AR / 4  # span\n",
    "A_plan = math.pi * c * S / 4  # planform area of the plate\n",
    "\n",
    "A_phi = numpy.radians(45.0)  # rolling amplitude\n",
    "print('Rolling amplitude: A_phi = {}'.format(A_phi))\n",
    "\n",
    "A_theta = numpy.radians(45.0)  # pitching amplitude\n",
    "# A_theta = 0.0\n",
    "print('Pitching amplitude: A_theta = {}'.format(A_theta))\n",
    "\n",
    "psi = numpy.radians(90.0)  # phase difference\n",
    "print('Phase difference: psi = {}'.format(psi))\n",
    "\n",
    "theta_bias = numpy.radians(0.0)  # static pitching bias\n",
    "print('Pitching bias: theta_bias = {}'.format(theta_bias))\n",
    "\n",
    "U_inf = 1.0  # freestream velocity\n",
    "R_avg = S / 2  # average rotational radius\n",
    "St = 0.6  # Strouhal number\n",
    "f = St * U_inf / (2 * A_phi * R_avg)  # flapping frequency\n",
    "print('Flapping frequency: f = {}'.format(f))\n",
    "T = 1 / f  # time period\n",
    "print('Time period: T = {}'.format(T))\n",
    "\n",
    "Re = 200.0  # Reynolds number\n",
    "nu = U_inf * c / Re  # kinematic viscosity\n",
    "print('Kinematic viscosity: nu = {}'.format(nu))"
   ]
  },
  {
   "cell_type": "code",
   "execution_count": null,
   "metadata": {},
   "outputs": [],
   "source": [
    "hook = [0.0, 0.0, 0.0]  # fixed center of rotation\n",
    "\n",
    "timestep = 250\n",
    "name = 'velocity'\n",
    "\n",
    "filepath = simudir + '/solution/{:0>7}.3D'.format(timestep)\n",
    "x, y, z = petibmpy.read_body(filepath)\n",
    "\n",
    "filepath = simudir + '/solution/{:0>7}.h5'.format(timestep)\n",
    "u = petibmpy.read_field_hdf5(filepath, name)\n",
    "ux, uy, uz = u[0::3], u[1::3], u[2::3]"
   ]
  },
  {
   "cell_type": "code",
   "execution_count": null,
   "metadata": {},
   "outputs": [],
   "source": [
    "fig = pyplot.figure(figsize=(6.0, 6.0))\n",
    "ax = fig.gca(projection='3d')\n",
    "ax.set_xlabel('x')\n",
    "ax.set_ylabel('z')\n",
    "ax.set_zlabel('y')\n",
    "\n",
    "title = ax.set_title('time step: {}'.format(timestep))\n",
    "ax.scatter(*hook, depthshade=False, c='C3', marker='o', s=80)\n",
    "sc = ax.scatter(x, z, y, depthshade=False, c='C1', marker='.', s=10)\n",
    "\n",
    "start, end, s = 0, -1, 4\n",
    "q = ax.quiver(x[start:end:s], z[start:end:s], y[start:end:s],\n",
    "              ux[start:end:s], uz[start:end:s], uy[start:end:s],\n",
    "              normalize=False, length=0.2)\n",
    "\n",
    "ax.set_xlim(-c, c)\n",
    "ax.set_ylim(2 * c, 0.0)\n",
    "ax.set_zlim(-c, c)\n",
    "ax.view_init(elev=0.0, azim=-90.0)\n",
    "# Draw cube.\n",
    "d1, d2, d3 = c, S, 2 * S * math.cos(A_phi)\n",
    "r1 = [-d1 / 2, d1 / 2]\n",
    "r2 = [0.0, d2]\n",
    "r3 = [-d3 / 2, d3 / 2]\n",
    "points = numpy.array(list(itertools.product(r1, r2, r3)))\n",
    "for s, e in itertools.combinations(points, 2):\n",
    "    v = numpy.sum(numpy.abs(s - e))\n",
    "    if v == d1 or v == d2 or v == d3:\n",
    "        ax.plot3D(*zip(s, e), color='black', linestyle=':')\n",
    "\n",
    "fig.tight_layout();"
   ]
  },
  {
   "cell_type": "code",
   "execution_count": null,
   "metadata": {},
   "outputs": [],
   "source": [
    "def update_figure(n, title, sc, q, display_fig=False):\n",
    "    name = 'velocity'\n",
    "\n",
    "    filepath = simudir + '/solution/{:0>7}.3D'.format(n)\n",
    "    x, y, z = petibmpy.read_body(filepath)\n",
    "\n",
    "    filepath = simudir + '/solution/{:0>7}.h5'.format(n)\n",
    "    u = petibmpy.read_field_hdf5(filepath, name)\n",
    "    ux, uy, uz = u[0::3], u[1::3], u[2::3]\n",
    "    \n",
    "    sc._offsets3d = (x, z, y)\n",
    "    del(ax.collections[-1])\n",
    "    start, end, s = 0, -1, 4\n",
    "    q = ax.quiver(x[start:end:s], z[start:end:s], y[start:end:s],\n",
    "                  ux[start:end:s], uz[start:end:s], uy[start:end:s],\n",
    "                  normalize=False, length=0.2)\n",
    "    title.set_text('time step: {}'.format(n))\n",
    "    \n",
    "    if display_fig:\n",
    "        display(fig)"
   ]
  },
  {
   "cell_type": "code",
   "execution_count": null,
   "metadata": {},
   "outputs": [],
   "source": [
    "n_slider = ipywidgets.IntSlider(value=125, min=125, max=5000, step=125,\n",
    "                                description='Time step')\n",
    "w = ipywidgets.interactive(update_figure, n=n_slider,\n",
    "                           display_fig=ipywidgets.fixed(True),\n",
    "                           title=ipywidgets.fixed(title),\n",
    "                           sc=ipywidgets.fixed(sc),\n",
    "                           q=ipywidgets.fixed(q))\n",
    "display(w)"
   ]
  },
  {
   "cell_type": "code",
   "execution_count": null,
   "metadata": {},
   "outputs": [],
   "source": []
  }
 ],
 "metadata": {
  "kernelspec": {
   "display_name": "Python 3 (Rolling)",
   "language": "python",
   "name": "py36-rolling"
  },
  "language_info": {
   "codemirror_mode": {
    "name": "ipython",
    "version": 3
   },
   "file_extension": ".py",
   "mimetype": "text/x-python",
   "name": "python",
   "nbconvert_exporter": "python",
   "pygments_lexer": "ipython3",
   "version": "3.6.8"
  }
 },
 "nbformat": 4,
 "nbformat_minor": 2
}
